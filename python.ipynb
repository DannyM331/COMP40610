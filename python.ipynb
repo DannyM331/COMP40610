{
 "cells": [
  {
   "cell_type": "code",
   "execution_count": 2,
   "metadata": {},
   "outputs": [],
   "source": [
    "import pandas as pd"
   ]
  },
  {
   "cell_type": "code",
   "execution_count": 5,
   "metadata": {},
   "outputs": [
    {
     "name": "stdout",
     "output_type": "stream",
     "text": [
      "       country  consumption  co2_emission\n",
      "0      Albania       532.73       1777.85\n",
      "1      Algeria       364.51        707.88\n",
      "2       Angola       115.99        412.99\n",
      "3    Argentina       429.41       2172.40\n",
      "4      Armenia       407.11       1109.93\n",
      "..         ...          ...           ...\n",
      "125    Uruguay       433.60       1634.91\n",
      "126  Venezuela       277.39       1104.10\n",
      "127    Vietnam       268.74        641.51\n",
      "128     Zambia        57.11        225.30\n",
      "129   Zimbabwe        96.56        350.33\n",
      "\n",
      "[130 rows x 3 columns]\n"
     ]
    }
   ],
   "source": [
    "# Load the original data\n",
    "df = pd.read_csv('food_consumption.csv')\n",
    "\n",
    "# Group by country and sum the consumption and CO2 emissions\n",
    "country_stats = df.groupby('country').agg({'consumption': 'sum', 'co2_emission': 'sum'}).reset_index()\n",
    "\n",
    "print(country_stats)\n",
    "\n",
    "# Save the new dataframe to country_stats.csv\n",
    "country_stats.to_csv('country_stats.csv', index=False)"
   ]
  }
 ],
 "metadata": {
  "kernelspec": {
   "display_name": "assignment1",
   "language": "python",
   "name": "python3"
  },
  "language_info": {
   "codemirror_mode": {
    "name": "ipython",
    "version": 3
   },
   "file_extension": ".py",
   "mimetype": "text/x-python",
   "name": "python",
   "nbconvert_exporter": "python",
   "pygments_lexer": "ipython3",
   "version": "3.11.5"
  }
 },
 "nbformat": 4,
 "nbformat_minor": 2
}
