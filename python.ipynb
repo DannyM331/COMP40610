{
 "cells": [
  {
   "cell_type": "code",
   "execution_count": null,
   "metadata": {},
   "outputs": [],
   "source": [
    "import pandas as pd"
   ]
  },
  {
   "cell_type": "code",
   "execution_count": 4,
   "metadata": {},
   "outputs": [
    {
     "name": "stdout",
     "output_type": "stream",
     "text": [
      "               food_category  consumption  co2_emmission\n",
      "0                       Beef    12.030840     371.246260\n",
      "1                       Eggs     8.101450       7.442366\n",
      "2                       Fish    17.155115      27.390992\n",
      "3                Lamb & Goat     2.580305      90.361679\n",
      "4         Milk - inc. cheese   124.814580     177.786260\n",
      "5    Nuts inc. Peanut Butter     4.105649       7.267099\n",
      "6                       Pork    16.000611      56.634427\n",
      "7                    Poultry    21.057252      22.619542\n",
      "8                       Rice    29.150916      37.304656\n",
      "9                   Soybeans     0.853969       0.384351\n",
      "10  Wheat and Wheat Products    71.003359      13.540305\n"
     ]
    }
   ],
   "source": [
    "# Read the CSV file into a pandas DataFrame\n",
    "df = pd.read_csv('food_consumption.csv')\n",
    "\n",
    "# Group by 'food_category' and calculate the sum of 'consumption' and 'co2_emission' for each category\n",
    "result = df.groupby('food_category').agg({'consumption': 'sum', 'co2_emmission': 'sum'}).reset_index()\n",
    "\n",
    "# Divide consumption and CO2 emissions by 131 because thats how many countries are in the dataset\n",
    "result['consumption'] /= 131\n",
    "result['co2_emmission'] /= 131\n",
    "\n",
    "# Print or save the result to a new CSV file\n",
    "print(result)\n",
    "\n",
    "# Save the result to a new CSV file if needed\n",
    "result.to_csv('total_consumption_and_emission_per_category.csv', index=False)"
   ]
  },
  {
   "cell_type": "code",
   "execution_count": 3,
   "metadata": {},
   "outputs": [],
   "source": [
    "# Load the original data\n",
    "df = pd.read_csv('food_consumption.csv')\n",
    "\n",
    "# Group by country and sum the consumption and CO2 emissions\n",
    "country_stats = df.groupby('country').agg({'consumption': 'sum', 'co2_emmission': 'sum'}).reset_index()\n",
    "\n",
    "\n",
    "# Save the new dataframe to country_stats.csv\n",
    "country_stats.to_csv('country_stats.csv', index=False)"
   ]
  },
  {
   "cell_type": "code",
   "execution_count": null,
   "metadata": {},
   "outputs": [],
   "source": []
  }
 ],
 "metadata": {
  "kernelspec": {
   "display_name": "assignment1",
   "language": "python",
   "name": "python3"
  },
  "language_info": {
   "codemirror_mode": {
    "name": "ipython",
    "version": 3
   },
   "file_extension": ".py",
   "mimetype": "text/x-python",
   "name": "python",
   "nbconvert_exporter": "python",
   "pygments_lexer": "ipython3",
   "version": "3.11.5"
  }
 },
 "nbformat": 4,
 "nbformat_minor": 2
}
