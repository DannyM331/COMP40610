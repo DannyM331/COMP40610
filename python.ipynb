  {
   "cell_type": "code",
   "execution_count": 3,
   "metadata": {},
   "outputs": [],
   "source": [
    "# Load the original data\n",
    "df = pd.read_csv('food_consumption.csv')\n",
    "\n",
    "# Group by country and sum the consumption and CO2 emissions\n",
    "country_stats = df.groupby('country').agg({'consumption': 'sum', 'co2_emission': 'sum'}).reset_index()\n",
    "\n",
    "\n",
    "# Save the new dataframe to country_stats.csv\n",
    "country_stats.to_csv('country_stats.csv', index=False)"
   ]
  },
  {
   "cell_type": "code",
   "execution_count": null,
   "metadata": {},
   "outputs": [],
   "source": []
  }
 ],
 "metadata": {
  "kernelspec": {
   "display_name": "assignment1",
   "language": "python",
   "name": "python3"
  },
  "language_info": {
   "codemirror_mode": {
    "name": "ipython",
    "version": 3
   },
   "file_extension": ".py",
   "mimetype": "text/x-python",
   "name": "python",
   "nbconvert_exporter": "python",
   "pygments_lexer": "ipython3",
   "version": "3.11.5"
  }
 },
 "nbformat": 4,
 "nbformat_minor": 2
}
